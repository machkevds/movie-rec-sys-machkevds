{
  "nbformat": 4,
  "nbformat_minor": 0,
  "metadata": {
    "colab": {
      "provenance": [],
      "authorship_tag": "ABX9TyNt03meoskptHrCIfWOnubm"
    },
    "kernelspec": {
      "name": "python3",
      "display_name": "Python 3"
    },
    "language_info": {
      "name": "python"
    }
  },
  "cells": [
    {
      "cell_type": "markdown",
      "source": [
        "# Recommendation System"
      ],
      "metadata": {
        "id": "cK8ummuSThWp"
      }
    },
    {
      "cell_type": "code",
      "source": [],
      "metadata": {
        "id": "EfdV7DrqTfh4"
      },
      "execution_count": null,
      "outputs": []
    },
    {
      "cell_type": "markdown",
      "source": [
        "---"
      ],
      "metadata": {
        "id": "lJQ-UCWHZMG7"
      }
    },
    {
      "cell_type": "code",
      "source": [
        "# to auto reload any updated py files\n",
        "%load_ext autoreload\n",
        "%autoreload 2"
      ],
      "metadata": {
        "id": "UhwVjUl1ElEH"
      },
      "execution_count": 1,
      "outputs": []
    },
    {
      "cell_type": "markdown",
      "source": [
        "1. Download dataset"
      ],
      "metadata": {
        "id": "dyketIU8ZSHH"
      }
    },
    {
      "cell_type": "code",
      "source": [
        "!wget https://files.grouplens.org/datasets/movielens/ml-100k.zip\n",
        "!unzip -q ml-100k.zip"
      ],
      "metadata": {
        "colab": {
          "base_uri": "https://localhost:8080/"
        },
        "id": "WGJY-7L_Q-xc",
        "outputId": "1a7cb946-e213-49f8-cd5f-02ce847d791e"
      },
      "execution_count": 2,
      "outputs": [
        {
          "output_type": "stream",
          "name": "stdout",
          "text": [
            "--2025-06-03 19:24:38--  https://files.grouplens.org/datasets/movielens/ml-100k.zip\n",
            "Resolving files.grouplens.org (files.grouplens.org)... 128.101.65.152\n",
            "Connecting to files.grouplens.org (files.grouplens.org)|128.101.65.152|:443... connected.\n",
            "HTTP request sent, awaiting response... 200 OK\n",
            "Length: 4924029 (4.7M) [application/zip]\n",
            "Saving to: ‘ml-100k.zip’\n",
            "\n",
            "ml-100k.zip         100%[===================>]   4.70M  21.0MB/s    in 0.2s    \n",
            "\n",
            "2025-06-03 19:24:38 (21.0 MB/s) - ‘ml-100k.zip’ saved [4924029/4924029]\n",
            "\n"
          ]
        }
      ]
    },
    {
      "cell_type": "code",
      "source": [
        "%%writefile data_loader.py\n",
        "\n",
        "# load ratings & movie data\n",
        "import pandas as pd\n",
        "\n",
        "\n",
        "def load_ratings(path=\"ml-100k/u.data\"):\n",
        "  '''load file with user ratings'''\n",
        "  return pd.read_csv(path, sep='\\t', header=None,\n",
        "                     names=[\"user_id\", \"movie_id\", \"rating\", \"timestamp\"])\n",
        "\n",
        "def load_movies(path='ml-100k/u.item'):\n",
        "  '''load file with movie metadata'''\n",
        "  return pd.read_csv(path, sep='|', encoding='latin-1', header=None,\n",
        "                     names=[\"movie_id\", \"title\", \"release_date\", \"video_release_date\",\n",
        "                            \"IMDb_URL\"] + [f\"genre_{i}\" for i in range(19)])\n",
        "\n",
        "def build_user_item_matrix(ratings_df):\n",
        "  ''' pivot to user-item matrix with NaNs for missing values'''\n",
        "  return ratings_df.pivot_table(index='user_id', columns='movie_id', values='rating')\n",
        "\n",
        "def fill_missing_zero(matrix):\n",
        "  '''filling NaNs with 0 for cosine similarity'''\n",
        "  return matrix.fillna(0)\n",
        "\n",
        "def center_ratings(matrix):\n",
        "  '''returning mean centered ratings matrix (for pearson similarity)'''\n",
        "  user_means = matrix.mean(axis=1)\n",
        "  return matrix.sub(user_means, axis=0), user_means\n"
      ],
      "metadata": {
        "colab": {
          "base_uri": "https://localhost:8080/"
        },
        "id": "BHyT-jhVRvGR",
        "outputId": "cf47de7d-a86f-4fe7-cd4e-1f9d7aafbf51"
      },
      "execution_count": 21,
      "outputs": [
        {
          "output_type": "stream",
          "name": "stdout",
          "text": [
            "Overwriting data_loader.py\n"
          ]
        }
      ]
    },
    {
      "cell_type": "code",
      "source": [
        "#usage reference\n",
        "from data_loader import load_ratings, load_movies, build_user_item_matrix, fill_missing_zero, center_ratings\n",
        "\n",
        "ratings = load_ratings()\n",
        "movies = load_movies()\n",
        "user_item = build_user_item_matrix(ratings)\n",
        "user_item_filled = fill_missing_zero(user_item)\n",
        "user_item_centered, user_means = center_ratings(user_item)\n",
        "\n",
        "print(ratings.head())\n",
        "print(\"=============================================\")\n",
        "print(movies.head())\n",
        "print(\"=============================================\")\n",
        "print(user_item_filled.head())\n",
        "print(\"=============================================\")\n",
        "print(user_item_centered.head())"
      ],
      "metadata": {
        "id": "O_aGAtgYLePs",
        "outputId": "4c37b762-d9bc-445b-8565-559b8e49f6de",
        "colab": {
          "base_uri": "https://localhost:8080/"
        }
      },
      "execution_count": 22,
      "outputs": [
        {
          "output_type": "stream",
          "name": "stdout",
          "text": [
            "   user_id  movie_id  rating  timestamp\n",
            "0      196       242       3  881250949\n",
            "1      186       302       3  891717742\n",
            "2       22       377       1  878887116\n",
            "3      244        51       2  880606923\n",
            "4      166       346       1  886397596\n",
            "=============================================\n",
            "   movie_id              title release_date  video_release_date  \\\n",
            "0         1   Toy Story (1995)  01-Jan-1995                 NaN   \n",
            "1         2   GoldenEye (1995)  01-Jan-1995                 NaN   \n",
            "2         3  Four Rooms (1995)  01-Jan-1995                 NaN   \n",
            "3         4  Get Shorty (1995)  01-Jan-1995                 NaN   \n",
            "4         5     Copycat (1995)  01-Jan-1995                 NaN   \n",
            "\n",
            "                                            IMDb_URL  genre_0  genre_1  \\\n",
            "0  http://us.imdb.com/M/title-exact?Toy%20Story%2...        0        0   \n",
            "1  http://us.imdb.com/M/title-exact?GoldenEye%20(...        0        1   \n",
            "2  http://us.imdb.com/M/title-exact?Four%20Rooms%...        0        0   \n",
            "3  http://us.imdb.com/M/title-exact?Get%20Shorty%...        0        1   \n",
            "4  http://us.imdb.com/M/title-exact?Copycat%20(1995)        0        0   \n",
            "\n",
            "   genre_2  genre_3  genre_4  ...  genre_9  genre_10  genre_11  genre_12  \\\n",
            "0        0        1        1  ...        0         0         0         0   \n",
            "1        1        0        0  ...        0         0         0         0   \n",
            "2        0        0        0  ...        0         0         0         0   \n",
            "3        0        0        0  ...        0         0         0         0   \n",
            "4        0        0        0  ...        0         0         0         0   \n",
            "\n",
            "   genre_13  genre_14  genre_15  genre_16  genre_17  genre_18  \n",
            "0         0         0         0         0         0         0  \n",
            "1         0         0         0         1         0         0  \n",
            "2         0         0         0         1         0         0  \n",
            "3         0         0         0         0         0         0  \n",
            "4         0         0         0         1         0         0  \n",
            "\n",
            "[5 rows x 24 columns]\n",
            "=============================================\n",
            "movie_id  1     2     3     4     5     6     7     8     9     10    ...  \\\n",
            "user_id                                                               ...   \n",
            "1          5.0   3.0   4.0   3.0   3.0   5.0   4.0   1.0   5.0   3.0  ...   \n",
            "2          4.0   0.0   0.0   0.0   0.0   0.0   0.0   0.0   0.0   2.0  ...   \n",
            "3          0.0   0.0   0.0   0.0   0.0   0.0   0.0   0.0   0.0   0.0  ...   \n",
            "4          0.0   0.0   0.0   0.0   0.0   0.0   0.0   0.0   0.0   0.0  ...   \n",
            "5          4.0   3.0   0.0   0.0   0.0   0.0   0.0   0.0   0.0   0.0  ...   \n",
            "\n",
            "movie_id  1673  1674  1675  1676  1677  1678  1679  1680  1681  1682  \n",
            "user_id                                                               \n",
            "1          0.0   0.0   0.0   0.0   0.0   0.0   0.0   0.0   0.0   0.0  \n",
            "2          0.0   0.0   0.0   0.0   0.0   0.0   0.0   0.0   0.0   0.0  \n",
            "3          0.0   0.0   0.0   0.0   0.0   0.0   0.0   0.0   0.0   0.0  \n",
            "4          0.0   0.0   0.0   0.0   0.0   0.0   0.0   0.0   0.0   0.0  \n",
            "5          0.0   0.0   0.0   0.0   0.0   0.0   0.0   0.0   0.0   0.0  \n",
            "\n",
            "[5 rows x 1682 columns]\n",
            "=============================================\n",
            "movie_id      1         2         3         4         5         6     \\\n",
            "user_id                                                                \n",
            "1         1.389706 -0.610294  0.389706 -0.610294 -0.610294  1.389706   \n",
            "2         0.290323       NaN       NaN       NaN       NaN       NaN   \n",
            "3              NaN       NaN       NaN       NaN       NaN       NaN   \n",
            "4              NaN       NaN       NaN       NaN       NaN       NaN   \n",
            "5         1.125714  0.125714       NaN       NaN       NaN       NaN   \n",
            "\n",
            "movie_id      7         8         9         10    ...  1673  1674  1675  1676  \\\n",
            "user_id                                           ...                           \n",
            "1         0.389706 -2.610294  1.389706 -0.610294  ...   NaN   NaN   NaN   NaN   \n",
            "2              NaN       NaN       NaN -1.709677  ...   NaN   NaN   NaN   NaN   \n",
            "3              NaN       NaN       NaN       NaN  ...   NaN   NaN   NaN   NaN   \n",
            "4              NaN       NaN       NaN       NaN  ...   NaN   NaN   NaN   NaN   \n",
            "5              NaN       NaN       NaN       NaN  ...   NaN   NaN   NaN   NaN   \n",
            "\n",
            "movie_id  1677  1678  1679  1680  1681  1682  \n",
            "user_id                                       \n",
            "1          NaN   NaN   NaN   NaN   NaN   NaN  \n",
            "2          NaN   NaN   NaN   NaN   NaN   NaN  \n",
            "3          NaN   NaN   NaN   NaN   NaN   NaN  \n",
            "4          NaN   NaN   NaN   NaN   NaN   NaN  \n",
            "5          NaN   NaN   NaN   NaN   NaN   NaN  \n",
            "\n",
            "[5 rows x 1682 columns]\n"
          ]
        }
      ]
    },
    {
      "cell_type": "code",
      "source": [
        "# creating similarity.py\n",
        "\n",
        "%%writefile similarity.py\n",
        "\n",
        "import pandas as pd\n",
        "from sklearn.metrics.pairwise import cosine_similarity\n",
        "\n",
        "def compute_cosine_similarity(matrix):\n",
        "  ''' Computing the cosine similarity between users based on rating vectors.\n",
        "      The input is a matrix with users as rows, movies as columns and no NaNs (filled with zeroes)'''\n",
        "\n",
        "  similarity = cosine_similarity(matrix.values)\n",
        "  return pd.DataFrame(similarity, index=matrix.index, columns=matrix.index)\n",
        "\n",
        "def compute_pearson_similarity(centered_matrix):\n",
        "    '''Computes the Pearson correlation between users on mean centered data..\n",
        "       The input is a matrix with mean-centered ratings (NaNs allowed)'''\n",
        "    return centered_matrix.T.corr(method='pearson')\n",
        "\n",
        "\n",
        "def get_top_k_neighbors(similarity_matrix, user_id, k=5):\n",
        "  ''' Get top k most similar users to a given user, excluding themselves.'''\n",
        "  user_similarities = similarity_matrix.loc[user_id]\n",
        "  top_k = user_similarities.drop(index=user_id).nlargest(k)\n",
        "  return top_k\n"
      ],
      "metadata": {
        "id": "JZfy4HIULaFZ",
        "outputId": "75cd155f-a257-411c-99db-5c473321355c",
        "colab": {
          "base_uri": "https://localhost:8080/"
        }
      },
      "execution_count": 23,
      "outputs": [
        {
          "output_type": "stream",
          "name": "stdout",
          "text": [
            "Overwriting similarity.py\n"
          ]
        }
      ]
    },
    {
      "cell_type": "code",
      "source": [
        "# usage reference\n",
        "\n",
        "from similarity import compute_cosine_similarity, compute_pearson_similarity, get_top_k_neighbors\n",
        "\n",
        "# user cosine similarity\n",
        "user_similarity_cosine = compute_cosine_similarity(user_item_filled)\n",
        "\n",
        "# user pearson similarity\n",
        "user_similarity_pearson = compute_pearson_similarity(user_item_centered)\n",
        "\n",
        "# using pearson to get similar users to a certain other user\n",
        "top_users = get_top_k_neighbors(user_similarity_pearson, user_id=1, k=5)\n",
        "\n",
        "print(user_similarity_cosine.head())\n",
        "print(\"=============================================\")\n",
        "print(user_similarity_pearson.head())\n",
        "print(\"=============================================\")\n",
        "print(top_users)"
      ],
      "metadata": {
        "id": "wA6RVNFbPCmk",
        "outputId": "0ea24d1c-ce8f-4493-ce57-bded09ca5cf8",
        "colab": {
          "base_uri": "https://localhost:8080/"
        }
      },
      "execution_count": 24,
      "outputs": [
        {
          "output_type": "stream",
          "name": "stdout",
          "text": [
            "user_id       1         2         3         4         5         6         7    \\\n",
            "user_id                                                                         \n",
            "1        1.000000  0.166931  0.047460  0.064358  0.378475  0.430239  0.440367   \n",
            "2        0.166931  1.000000  0.110591  0.178121  0.072979  0.245843  0.107328   \n",
            "3        0.047460  0.110591  1.000000  0.344151  0.021245  0.072415  0.066137   \n",
            "4        0.064358  0.178121  0.344151  1.000000  0.031804  0.068044  0.091230   \n",
            "5        0.378475  0.072979  0.021245  0.031804  1.000000  0.237286  0.373600   \n",
            "\n",
            "user_id       8         9         10   ...       934       935       936  \\\n",
            "user_id                                ...                                 \n",
            "1        0.319072  0.078138  0.376544  ...  0.369527  0.119482  0.274876   \n",
            "2        0.103344  0.161048  0.159862  ...  0.156986  0.307942  0.358789   \n",
            "3        0.083060  0.061040  0.065151  ...  0.031875  0.042753  0.163829   \n",
            "4        0.188060  0.101284  0.060859  ...  0.052107  0.036784  0.133115   \n",
            "5        0.248930  0.056847  0.201427  ...  0.338794  0.080580  0.094924   \n",
            "\n",
            "user_id       937       938       939       940       941       942       943  \n",
            "user_id                                                                        \n",
            "1        0.189705  0.197326  0.118095  0.314072  0.148617  0.179508  0.398175  \n",
            "2        0.424046  0.319889  0.228583  0.226790  0.161485  0.172268  0.105798  \n",
            "3        0.069038  0.124245  0.026271  0.161890  0.101243  0.133416  0.026556  \n",
            "4        0.193471  0.146058  0.030138  0.196858  0.152041  0.170086  0.058752  \n",
            "5        0.079779  0.148607  0.071459  0.239955  0.139595  0.152497  0.313941  \n",
            "\n",
            "[5 rows x 943 columns]\n",
            "=============================================\n",
            "user_id       1         2        3         4         5         6         7    \\\n",
            "user_id                                                                        \n",
            "1        1.000000  0.160841  0.11278  0.500000  0.420809  0.287159  0.258137   \n",
            "2        0.160841  1.000000  0.06742  0.148522  0.327327  0.446269  0.643675   \n",
            "3        0.112780  0.067420  1.00000 -0.262600       NaN -0.109109  0.064803   \n",
            "4        0.500000  0.148522 -0.26260  1.000000  1.000000 -0.581318 -0.266632   \n",
            "5        0.420809  0.327327      NaN  1.000000  1.000000  0.241817  0.175630   \n",
            "\n",
            "user_id       8         9         10   ...       934       935       936  \\\n",
            "user_id                                ...                                 \n",
            "1        0.692086 -0.102062 -0.092344  ...  0.061695 -0.260242  0.383733   \n",
            "2        0.585491  0.242536  0.668145  ...  0.021007 -0.271163  0.214017   \n",
            "3        0.291937       NaN  0.311086  ...       NaN       NaN -0.045162   \n",
            "4        0.642938       NaN -0.301511  ...  0.500000       NaN -0.203653   \n",
            "5        0.537400  0.577350  0.087343  ...  0.229532 -0.500000  0.439286   \n",
            "\n",
            "user_id       937       938       939       940       941       942       943  \n",
            "user_id                                                                        \n",
            "1        0.029000  0.326744  0.534390  0.263289  0.205616 -0.180784  0.067549  \n",
            "2        0.561645  0.331587  0.000000 -0.011682 -0.062017  0.085960  0.479702  \n",
            "3        0.000000 -0.137523       NaN -0.104678  1.000000 -0.011792       NaN  \n",
            "4             NaN  0.375000       NaN  0.850992  1.000000  0.412568       NaN  \n",
            "5        0.608581  0.484211  0.880705  0.027038  0.468521  0.318163  0.346234  \n",
            "\n",
            "[5 rows x 943 columns]\n",
            "=============================================\n",
            "user_id\n",
            "39     1.0\n",
            "166    1.0\n",
            "273    1.0\n",
            "351    1.0\n",
            "511    1.0\n",
            "Name: 1, dtype: float64\n"
          ]
        }
      ]
    },
    {
      "cell_type": "code",
      "source": [
        "# rating distribution\n",
        "import matplotlib.pyplot as plt\n",
        "import seaborn as sns\n",
        "\n",
        "plt.figure(figsize=(6,4))\n",
        "sns.countplot(x=\"rating\", data=ratings)\n",
        "plt.title(\"Rating Distribution\")\n",
        "plt.xlabel(\"Rating\")\n",
        "plt.ylabel(\"Count\")\n",
        "plt.show()"
      ],
      "metadata": {
        "id": "LvH7fkbBMD8L",
        "outputId": "b07afbc4-5e59-4ab3-8644-0b06538cd317",
        "colab": {
          "base_uri": "https://localhost:8080/",
          "height": 410
        }
      },
      "execution_count": null,
      "outputs": [
        {
          "output_type": "display_data",
          "data": {
            "text/plain": [
              "<Figure size 600x400 with 1 Axes>"
            ],
            "image/png": "[encoded data removed]"
          },
          "metadata": {}
        }
      ]
    },
    {
      "cell_type": "code",
      "source": [
        "# user-item matrix sparsity\n",
        "n_users= ratings['user_id'].nunique()\n",
        "n_movies = ratings['movie_id'].nunique()\n",
        "sparsity =1.0 - len(ratings) / (n_users * n_movies)\n",
        "\n",
        "print(f\"User-Tem Matrix Sparsity: {sparsity:.4f}\")"
      ],
      "metadata": {
        "id": "_mT1hJzWMhxu",
        "outputId": "2c03bbb5-f63b-416e-8df8-d9f23c85ba93",
        "colab": {
          "base_uri": "https://localhost:8080/"
        }
      },
      "execution_count": null,
      "outputs": [
        {
          "output_type": "stream",
          "name": "stdout",
          "text": [
            "User-Tem Matrix Sparsity: 0.9370\n"
          ]
        }
      ]
    },
    {
      "cell_type": "code",
      "source": [
        "# most active users & most rated movies\n",
        "\n",
        "top_users = ratings['user_id'].value_counts().head()\n",
        "top_movies = ratings['movie_id'].value_counts().head()\n",
        "\n",
        "print(\"Top 5 Active Users:\")\n",
        "print(top_users)\n",
        "\n",
        "print(\"\\nTop 5 Most Rated Movies:\")\n",
        "top_movies_ids = top_movies.index\n",
        "print(movies[movies['movie_id'].isin(top_movies_ids)][[\"movie_id\", \"title\"]])\n"
      ],
      "metadata": {
        "id": "N4EmyPh5nqDA",
        "outputId": "757902fb-77c4-42de-93d0-0237ec14bdc5",
        "colab": {
          "base_uri": "https://localhost:8080/"
        }
      },
      "execution_count": null,
      "outputs": [
        {
          "output_type": "stream",
          "name": "stdout",
          "text": [
            "Top 5 Active Users:\n",
            "user_id\n",
            "405    737\n",
            "655    685\n",
            "13     636\n",
            "450    540\n",
            "276    518\n",
            "Name: count, dtype: int64\n",
            "\n",
            "Top 5 Most Rated Movies:\n",
            "     movie_id                      title\n",
            "49         50           Star Wars (1977)\n",
            "99        100               Fargo (1996)\n",
            "180       181  Return of the Jedi (1983)\n",
            "257       258             Contact (1997)\n",
            "293       294           Liar Liar (1997)\n"
          ]
        }
      ]
    },
    {
      "cell_type": "code",
      "source": [
        "avg_movies_per_user = ratings['user_id'].value_counts().mean()\n",
        "print(f\"Average movies rated per user: {avg_movies_per_user:.2f}\")"
      ],
      "metadata": {
        "id": "WWJhlK-Soiyw",
        "outputId": "5d68584f-95d4-4654-a14a-be0fffbdc7d2",
        "colab": {
          "base_uri": "https://localhost:8080/"
        }
      },
      "execution_count": null,
      "outputs": [
        {
          "output_type": "stream",
          "name": "stdout",
          "text": [
            "Average movies rated per user: 106.04\n"
          ]
        }
      ]
    },
    {
      "cell_type": "code",
      "source": [
        "%%writefile data_loader.py\n",
        "\n",
        "def hello():\n",
        "    print(\"Hello test data loader\")\n"
      ],
      "metadata": {
        "id": "XjvcmxoYDrTo"
      },
      "execution_count": null,
      "outputs": []
    },
    {
      "cell_type": "code",
      "source": [
        "!cat data_loader.py"
      ],
      "metadata": {
        "id": "rBFRQ0tVD5Z3"
      },
      "execution_count": null,
      "outputs": []
    },
    {
      "cell_type": "code",
      "source": [
        "%load_ext autoreload\n",
        "%autoreload 2\n"
      ],
      "metadata": {
        "id": "nyAh22RSD_Ux"
      },
      "execution_count": null,
      "outputs": []
    }
  ]
}