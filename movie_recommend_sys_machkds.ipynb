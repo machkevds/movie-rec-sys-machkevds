{
  "nbformat": 4,
  "nbformat_minor": 0,
  "metadata": {
    "colab": {
      "provenance": [],
      "authorship_tag": "ABX9TyPFcLP0bUTspfsteeBw5z88"
    },
    "kernelspec": {
      "name": "python3",
      "display_name": "Python 3"
    },
    "language_info": {
      "name": "python"
    }
  },
  "cells": [
    {
      "cell_type": "markdown",
      "source": [
        "# Recommendation System"
      ],
      "metadata": {
        "id": "cK8ummuSThWp"
      }
    },
    {
      "cell_type": "code",
      "source": [],
      "metadata": {
        "id": "EfdV7DrqTfh4"
      },
      "execution_count": null,
      "outputs": []
    },
    {
      "cell_type": "markdown",
      "source": [
        "---"
      ],
      "metadata": {
        "id": "lJQ-UCWHZMG7"
      }
    },
    {
      "cell_type": "markdown",
      "source": [
        "1. Download dataset"
      ],
      "metadata": {
        "id": "dyketIU8ZSHH"
      }
    },
    {
      "cell_type": "code",
      "source": [
        "!wget https://files.grouplens.org/datasets/movielens/ml-100k.zip\n",
        "!unzip -q ml-100k.zip"
      ],
      "metadata": {
        "colab": {
          "base_uri": "https://localhost:8080/"
        },
        "id": "WGJY-7L_Q-xc",
        "outputId": "8f5fb95c-a3e3-448d-a1cf-05b887705795"
      },
      "execution_count": 1,
      "outputs": [
        {
          "output_type": "stream",
          "name": "stdout",
          "text": [
            "--2025-06-01 18:17:51--  https://files.grouplens.org/datasets/movielens/ml-100k.zip\n",
            "Resolving files.grouplens.org (files.grouplens.org)... 128.101.65.152\n",
            "Connecting to files.grouplens.org (files.grouplens.org)|128.101.65.152|:443... connected.\n",
            "HTTP request sent, awaiting response... 200 OK\n",
            "Length: 4924029 (4.7M) [application/zip]\n",
            "Saving to: ‘ml-100k.zip’\n",
            "\n",
            "ml-100k.zip         100%[===================>]   4.70M  3.19MB/s    in 1.5s    \n",
            "\n",
            "2025-06-01 18:17:53 (3.19 MB/s) - ‘ml-100k.zip’ saved [4924029/4924029]\n",
            "\n"
          ]
        }
      ]
    },
    {
      "cell_type": "code",
      "source": [
        "# load ratings & movie data\n",
        "import pandas as pd\n",
        "\n",
        "ratings = pd.read_csv(\"ml-100k/u.data\", sep='\\t', header=None,\n",
        "                      names=[\"user_id\", \"movie_id\", \"rating\", \"timestamp\"])\n",
        "\n",
        "movies = pd.read_csv(\"ml-100k/u.item\", sep='|', encoding='latin-1', header=None,\n",
        "                     names=[\"movie_id\", \"title\", \"release_date\", \"video_release_date\", \"IMDb_URL\"]\n",
        "                     + [f\"genre_{i}\" for i in range(19)])\n",
        "\n",
        "ratings.head(), movies[[\"movie_id\", \"title\"]].head()"
      ],
      "metadata": {
        "colab": {
          "base_uri": "https://localhost:8080/"
        },
        "id": "BHyT-jhVRvGR",
        "outputId": "24cd8117-c4e0-4e1e-fb24-afe09042c63f"
      },
      "execution_count": 2,
      "outputs": [
        {
          "output_type": "execute_result",
          "data": {
            "text/plain": [
              "(   user_id  movie_id  rating  timestamp\n",
              " 0      196       242       3  881250949\n",
              " 1      186       302       3  891717742\n",
              " 2       22       377       1  878887116\n",
              " 3      244        51       2  880606923\n",
              " 4      166       346       1  886397596,\n",
              "    movie_id              title\n",
              " 0         1   Toy Story (1995)\n",
              " 1         2   GoldenEye (1995)\n",
              " 2         3  Four Rooms (1995)\n",
              " 3         4  Get Shorty (1995)\n",
              " 4         5     Copycat (1995))"
            ]
          },
          "metadata": {},
          "execution_count": 2
        }
      ]
    },
    {
      "cell_type": "code",
      "source": [
        "# reviewing dataset structure\n",
        "print(f\"Ratings shape: {ratings.shape}\")\n",
        "print(f\"Unique users: {ratings['user_id'].nunique()}\")\n",
        "print(f\"Unique movies: {ratings['movie_id'].nunique()}\")\n",
        "ratings.info()\n",
        "movies.info()"
      ],
      "metadata": {
        "id": "O_aGAtgYLePs",
        "outputId": "9f3545be-4632-4582-a9da-458ad883fee2",
        "colab": {
          "base_uri": "https://localhost:8080/"
        }
      },
      "execution_count": 3,
      "outputs": [
        {
          "output_type": "stream",
          "name": "stdout",
          "text": [
            "Ratings shape: (100000, 4)\n",
            "Unique users: 943\n",
            "Unique movies: 1682\n",
            "<class 'pandas.core.frame.DataFrame'>\n",
            "RangeIndex: 100000 entries, 0 to 99999\n",
            "Data columns (total 4 columns):\n",
            " #   Column     Non-Null Count   Dtype\n",
            "---  ------     --------------   -----\n",
            " 0   user_id    100000 non-null  int64\n",
            " 1   movie_id   100000 non-null  int64\n",
            " 2   rating     100000 non-null  int64\n",
            " 3   timestamp  100000 non-null  int64\n",
            "dtypes: int64(4)\n",
            "memory usage: 3.1 MB\n",
            "<class 'pandas.core.frame.DataFrame'>\n",
            "RangeIndex: 1682 entries, 0 to 1681\n",
            "Data columns (total 24 columns):\n",
            " #   Column              Non-Null Count  Dtype  \n",
            "---  ------              --------------  -----  \n",
            " 0   movie_id            1682 non-null   int64  \n",
            " 1   title               1682 non-null   object \n",
            " 2   release_date        1681 non-null   object \n",
            " 3   video_release_date  0 non-null      float64\n",
            " 4   IMDb_URL            1679 non-null   object \n",
            " 5   genre_0             1682 non-null   int64  \n",
            " 6   genre_1             1682 non-null   int64  \n",
            " 7   genre_2             1682 non-null   int64  \n",
            " 8   genre_3             1682 non-null   int64  \n",
            " 9   genre_4             1682 non-null   int64  \n",
            " 10  genre_5             1682 non-null   int64  \n",
            " 11  genre_6             1682 non-null   int64  \n",
            " 12  genre_7             1682 non-null   int64  \n",
            " 13  genre_8             1682 non-null   int64  \n",
            " 14  genre_9             1682 non-null   int64  \n",
            " 15  genre_10            1682 non-null   int64  \n",
            " 16  genre_11            1682 non-null   int64  \n",
            " 17  genre_12            1682 non-null   int64  \n",
            " 18  genre_13            1682 non-null   int64  \n",
            " 19  genre_14            1682 non-null   int64  \n",
            " 20  genre_15            1682 non-null   int64  \n",
            " 21  genre_16            1682 non-null   int64  \n",
            " 22  genre_17            1682 non-null   int64  \n",
            " 23  genre_18            1682 non-null   int64  \n",
            "dtypes: float64(1), int64(20), object(3)\n",
            "memory usage: 315.5+ KB\n"
          ]
        }
      ]
    },
    {
      "cell_type": "code",
      "source": [
        "# rating distribution\n",
        "import matplotlib.pyplot as plt\n",
        "import seaborn as sns\n",
        "\n",
        "plt.figure(figsize=(6,4))\n",
        "sns.countplot(x=\"rating\", data=ratings)\n",
        "plt.title(\"Rating Distribution\")\n",
        "plt.xlabel(\"Rating\")\n",
        "plt.ylabel(\"Count\")\n",
        "plt.show()"
      ],
      "metadata": {
        "id": "LvH7fkbBMD8L",
        "outputId": "b07afbc4-5e59-4ab3-8644-0b06538cd317",
        "colab": {
          "base_uri": "https://localhost:8080/",
          "height": 410
        }
      },
      "execution_count": 4,
      "outputs": [
        {
          "output_type": "display_data",
          "data": {
            "text/plain": [
              "<Figure size 600x400 with 1 Axes>"
            ],
            "image/png": "[encoded data removed]"
          },
          "metadata": {}
        }
      ]
    },
    {
      "cell_type": "code",
      "source": [
        "# user-item matrix sparsity\n",
        "n_users= ratings['user_id'].nunique()\n",
        "n_movies = ratings['movie_id'].nunique()\n",
        "sparsity =1.0 - len(ratings) / (n_users * n_movies)\n",
        "\n",
        "print(f\"User-Tem Matrix Sparsity: {sparsity:.4f}\")"
      ],
      "metadata": {
        "id": "_mT1hJzWMhxu",
        "outputId": "2c03bbb5-f63b-416e-8df8-d9f23c85ba93",
        "colab": {
          "base_uri": "https://localhost:8080/"
        }
      },
      "execution_count": 5,
      "outputs": [
        {
          "output_type": "stream",
          "name": "stdout",
          "text": [
            "User-Tem Matrix Sparsity: 0.9370\n"
          ]
        }
      ]
    },
    {
      "cell_type": "code",
      "source": [
        "# most active users & most rated movies\n",
        "\n",
        "top_users = ratings['user_id'].value_counts().head()\n",
        "top_movies = ratings['movie_id'].value_counts().head()\n",
        "\n",
        "print(\"Top 5 Active Users:\")\n",
        "print(top_users)\n",
        "\n",
        "print(\"\\nTop 5 Most Rated Movies:\")\n",
        "top_movies_ids = top_movies.index\n",
        "print(movies[movies['movie_id'].isin(top_movies_ids)][[\"movie_id\", \"title\"]])\n"
      ],
      "metadata": {
        "id": "N4EmyPh5nqDA",
        "outputId": "757902fb-77c4-42de-93d0-0237ec14bdc5",
        "colab": {
          "base_uri": "https://localhost:8080/"
        }
      },
      "execution_count": 6,
      "outputs": [
        {
          "output_type": "stream",
          "name": "stdout",
          "text": [
            "Top 5 Active Users:\n",
            "user_id\n",
            "405    737\n",
            "655    685\n",
            "13     636\n",
            "450    540\n",
            "276    518\n",
            "Name: count, dtype: int64\n",
            "\n",
            "Top 5 Most Rated Movies:\n",
            "     movie_id                      title\n",
            "49         50           Star Wars (1977)\n",
            "99        100               Fargo (1996)\n",
            "180       181  Return of the Jedi (1983)\n",
            "257       258             Contact (1997)\n",
            "293       294           Liar Liar (1997)\n"
          ]
        }
      ]
    },
    {
      "cell_type": "code",
      "source": [
        "avg_movies_per_user = ratings['user_id'].value_counts().mean()\n",
        "print(f\"Average movies rated per user: {avg_movies_per_user:.2f}\")"
      ],
      "metadata": {
        "id": "WWJhlK-Soiyw",
        "outputId": "5d68584f-95d4-4654-a14a-be0fffbdc7d2",
        "colab": {
          "base_uri": "https://localhost:8080/"
        }
      },
      "execution_count": 7,
      "outputs": [
        {
          "output_type": "stream",
          "name": "stdout",
          "text": [
            "Average movies rated per user: 106.04\n"
          ]
        }
      ]
    }
  ]
}