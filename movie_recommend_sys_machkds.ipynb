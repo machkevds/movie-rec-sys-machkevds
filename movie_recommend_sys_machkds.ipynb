{
  "nbformat": 4,
  "nbformat_minor": 0,
  "metadata": {
    "colab": {
      "provenance": [],
      "authorship_tag": "ABX9TyOpK/EAqgXpeYDsIeijf2e7"
    },
    "kernelspec": {
      "name": "python3",
      "display_name": "Python 3"
    },
    "language_info": {
      "name": "python"
    }
  },
  "cells": [
    {
      "cell_type": "markdown",
      "source": [
        "# Recommendation System"
      ],
      "metadata": {
        "id": "cK8ummuSThWp"
      }
    },
    {
      "cell_type": "code",
      "source": [],
      "metadata": {
        "id": "EfdV7DrqTfh4"
      },
      "execution_count": null,
      "outputs": []
    }
  ]
}